{
  "nbformat": 4,
  "nbformat_minor": 0,
  "metadata": {
    "colab": {
      "name": "Prosper Data EDA Questions",
      "provenance": []
    },
    "kernelspec": {
      "name": "python3",
      "display_name": "Python 3"
    },
    "language_info": {
      "name": "python"
    }
  },
  "cells": [
    {
      "cell_type": "markdown",
      "source": [
        "**Introduction**"
      ],
      "metadata": {
        "id": "Qb6raW8gDwtt"
      }
    },
    {
      "cell_type": "markdown",
      "source": [
        "1. This data set contains 113,937 loans with 81 variables on each loan, including loan amount, borrower rate (or interest rate), current loan status, borrower income, and many others."
      ],
      "metadata": {
        "id": "9wSmGXuKDzJW"
      }
    },
    {
      "cell_type": "markdown",
      "source": [
        "2. The most critical tool in a P2P lending organization is its ability to\n",
        "assess a borrower’s creditworthiness as accurate as possible. Here, I\n",
        "am going to asses the tools used and to see if it is accurate in determining a person’s creditworthiness mainly Credit Grade and Prosper\n",
        "Score"
      ],
      "metadata": {
        "id": "VxoOlLIfD1fx"
      }
    },
    {
      "cell_type": "markdown",
      "source": [
        "Action: **presentation three main focuses are on the most critical part of Peer-to-Peer Lending which is CreditGrade , BorrowerRate and Lender Yield not to mention the custom built risk assesment tool called ProsperScore to assess the creditworthiness of the borrower.**"
      ],
      "metadata": {
        "id": "XhGF0Cr8D9nz"
      }
    },
    {
      "cell_type": "markdown",
      "source": [
        "Research Question 1 : **What are the most number of borrowers Credit\n",
        "Grade?** \n"
      ],
      "metadata": {
        "id": "dE1DAs36EVWc"
      }
    },
    {
      "cell_type": "code",
      "source": [
        "# Check the univariate relationship of Credit Grade"
      ],
      "metadata": {
        "id": "kL29DRa5GcBV"
      },
      "execution_count": null,
      "outputs": []
    },
    {
      "cell_type": "markdown",
      "source": [
        "Research Question 2 : **Since there are so much low Credit Grade such\n",
        "as C and D , does it lead to a higher amount of deliquency?** "
      ],
      "metadata": {
        "id": "LqqqtiysEl3z"
      }
    },
    {
      "cell_type": "code",
      "source": [
        "# Check the univariate relationship of Loan Status"
      ],
      "metadata": {
        "id": "TAueYotRGaDm"
      },
      "execution_count": null,
      "outputs": []
    },
    {
      "cell_type": "markdown",
      "source": [
        "Research Question 3 : **What is the highest number of BorrowerRate?** "
      ],
      "metadata": {
        "id": "LNLXd2_cEK93"
      }
    },
    {
      "cell_type": "code",
      "source": [
        "# Check the univariate relationship of Borrower rate"
      ],
      "metadata": {
        "id": "lJQXFhHbGYcB"
      },
      "execution_count": null,
      "outputs": []
    },
    {
      "cell_type": "markdown",
      "source": [
        "Research Question 4 : **Since the highest number of Borrower Rate\n",
        "is between 0.1 and 0.2, does the highest number of Lender Yield is\n",
        "between 0.1 and 0.2?** "
      ],
      "metadata": {
        "id": "Qu46Z-rSFAeQ"
      }
    },
    {
      "cell_type": "code",
      "source": [
        "# Check the univariate relationship of Lender Yield on Loan"
      ],
      "metadata": {
        "id": "0-UOcyIYGWgZ"
      },
      "execution_count": null,
      "outputs": []
    },
    {
      "cell_type": "markdown",
      "source": [
        "Research Question 5 : **Is the Credit Grade really accurate? Does\n",
        "higher Credit Grade leads to higher Monthly Loan Payment? As for\n",
        "Higher Credit Grade we mean from Grade AA to B** "
      ],
      "metadata": {
        "id": "umJcaSGiFKRY"
      }
    },
    {
      "cell_type": "code",
      "source": [
        "# Check the Bivariate Relationship between CreditGarde and MonthlyLoan Payment"
      ],
      "metadata": {
        "id": "keGLVeGcGUWv"
      },
      "execution_count": null,
      "outputs": []
    },
    {
      "cell_type": "markdown",
      "source": [
        "Research Question 6 : **Here we look at the Completed Loan Status\n",
        "and Defaulted Rate to determine the accuracy of Credit Grade.**"
      ],
      "metadata": {
        "id": "czfpfUXYFUze"
      }
    },
    {
      "cell_type": "code",
      "source": [
        " # Check the Bivariate Relatonship between CreditGrade and LoanStatus"
      ],
      "metadata": {
        "id": "hONXlqqAGSun"
      },
      "execution_count": null,
      "outputs": []
    },
    {
      "cell_type": "markdown",
      "source": [
        "Research Question 7 : **Now we know the Credit Grade is accurate\n",
        "and is a tool that is used by the organization in determining the\n",
        "person’s creditworthiness. Now we need to understand does the\n",
        "ProsperScore, the custom built risk assesment system is being used\n",
        "in determing borrower’s rate?**"
      ],
      "metadata": {
        "id": "fDlhCflDFbEz"
      }
    },
    {
      "cell_type": "markdown",
      "source": [
        "From a theoretical standpoint, if the higher ProsperScore leads to lower Borrower Rate and Borrower Annual Percentage Rate that means the Prosper Score is being used alongside the Credit Grade in determing a person’s creditworthiness."
      ],
      "metadata": {
        "id": "zgAH9UvsGGIU"
      }
    },
    {
      "cell_type": "code",
      "source": [
        "# Check the Multivariate Relationship between BorrowerRate and BorrowerAPR."
      ],
      "metadata": {
        "id": "1Qcz0pd9GPqs"
      },
      "execution_count": null,
      "outputs": []
    },
    {
      "cell_type": "markdown",
      "source": [
        "**Business Insight**"
      ],
      "metadata": {
        "id": "xiVB6cgjFtVr"
      }
    },
    {
      "cell_type": "markdown",
      "source": [
        "Since the most important assest of a P2P lending Organization is its ability in using its tool to determine a borrower’s creditworthiness as accurate as possible. The organization would be more confident to market its organization as a great investment for investor to invest in hence leading to more borrower and higher market capitilization and boost revenue growth."
      ],
      "metadata": {
        "id": "iy02VvcoF8yw"
      }
    }
  ]
}